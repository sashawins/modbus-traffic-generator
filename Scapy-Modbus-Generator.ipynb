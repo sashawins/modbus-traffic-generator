{
 "cells": [
  {
   "cell_type": "code",
   "execution_count": null,
   "metadata": {},
   "outputs": [],
   "source": [
    "# !pip install scapy\n",
    "# !pip install numpy"
   ]
  },
  {
   "cell_type": "code",
   "execution_count": null,
   "metadata": {},
   "outputs": [],
   "source": [
    "import struct\n",
    "import random\n",
    "import numpy as np\n",
    "from scapy.all import *"
   ]
  },
  {
   "cell_type": "code",
   "execution_count": null,
   "metadata": {},
   "outputs": [],
   "source": [
    "src_addr = 'localhost'  # Адрес отправителя\n",
    "dst_addr = '1.2.3.4'    # Адрес получателя\n",
    "\n",
    "rows = 20  # Количество строк матрицы\n",
    "cols = 20  # Количество столбцов матрицы\n",
    "\n",
    "num_interactions = 2000  # Количество запросов\n",
    "max_num_registers = 25   # Максимальное количество регистров в каждом пакете"
   ]
  },
  {
   "cell_type": "code",
   "execution_count": null,
   "metadata": {},
   "outputs": [],
   "source": [
    "def generate_engine_matrix(rows, cols):\n",
    "    # Создаем матрицу со случайными значениями от 1 до 100\n",
    "    matrix = np.random.randint(1, 100, size=(rows, cols))\n",
    "    \n",
    "    # Добавляем заголовки для столбцов (C0 до C19)\n",
    "    column_headers = [f\"R{i}\" for i in range(cols)]\n",
    "    \n",
    "    # Добавляем заголовки для строк (R0 до R19)\n",
    "    row_headers = [f\"C{i}\" for i in range(rows)]\n",
    "    \n",
    "    # Выводим матрицу с заголовками\n",
    "    print(\"\\t\".join([\"\"] + column_headers))\n",
    "    for i in range(rows):\n",
    "        print(\"\\t\".join([row_headers[i]] + list(map(str, matrix[i]))))\n",
    "\n",
    "    return matrix"
   ]
  },
  {
   "cell_type": "code",
   "execution_count": null,
   "metadata": {},
   "outputs": [],
   "source": [
    "def create_modbus_tcp_packet(unit_id, function_code, data):\n",
    "    # Преобразование заголовка Modbus/TCP\n",
    "    protocol_id = 0\n",
    "    length = len(data) + 2\n",
    "\n",
    "    # Создание заголовка\n",
    "    header = struct.pack('>HHHBB', transaction_id, protocol_id, length, unit_id, function_code)\n",
    "\n",
    "    # Добавление данных\n",
    "    packet = header + data\n",
    "\n",
    "    return packet"
   ]
  },
  {
   "cell_type": "code",
   "execution_count": null,
   "metadata": {},
   "outputs": [],
   "source": [
    "def create_modbus_response(unit_id, function_code, data):\n",
    "    return create_modbus_tcp_packet(unit_id, function_code, data)"
   ]
  },
  {
   "cell_type": "code",
   "execution_count": null,
   "metadata": {},
   "outputs": [],
   "source": [
    "def create_modbus_request(unit_id, starting_address, quantity):\n",
    "    data = struct.pack('>HH', starting_address, quantity)\n",
    "    modbus_request = create_modbus_tcp_packet(unit_id, 3, data)\n",
    "    return modbus_request"
   ]
  },
  {
   "cell_type": "code",
   "execution_count": null,
   "metadata": {},
   "outputs": [],
   "source": [
    "def create_modbus_response_from_matrix(matrix, starting_address, quantity):\n",
    "    # Преобразование данных из матрицы в формат Modbus Response\n",
    "    response_data = b''\n",
    "    for value in matrix.flatten()[starting_address:starting_address + quantity]:\n",
    "        response_data += struct.pack('>H', value)\n",
    "    \n",
    "    byte_count = len(response_data)\n",
    "    return struct.pack('>B', byte_count) + response_data"
   ]
  },
  {
   "cell_type": "code",
   "execution_count": null,
   "metadata": {},
   "outputs": [],
   "source": [
    "# Пример использования для создания Modbus запроса и записи в PCAP файл:\n",
    "unit_id = 1\n",
    "\n",
    "# Создание случайной матрицы\n",
    "matrix = generate_engine_matrix(rows, cols)\n",
    "\n",
    "packets = []  # Список для хранения пакетов\n",
    "used_transaction_ids = set()  # Множество для отслеживания использованных transaction_id"
   ]
  },
  {
   "cell_type": "code",
   "execution_count": null,
   "metadata": {},
   "outputs": [],
   "source": [
    "for _ in range(num_interactions):\n",
    "    # Генерация случайных значений starting_address и quantity\n",
    "    starting_address = random.randint(0, (rows * cols - 1))\n",
    "    quantity = random.randint(1, max_num_registers)\n",
    "\n",
    "    # Генерация уникального transaction_id\n",
    "    while True:\n",
    "        transaction_id = random.randint(0, num_interactions)\n",
    "        if transaction_id not in used_transaction_ids:\n",
    "            used_transaction_ids.add(transaction_id)\n",
    "            break\n",
    "\n",
    "    # Генерация случайного порта\n",
    "    random_port = random.randint(1024, 65535)\n",
    "\n",
    "    # Создание Modbus запроса\n",
    "    modbus_request = create_modbus_request(unit_id, starting_address, quantity)\n",
    "\n",
    "    # Преобразование в IP/TCP пакет с добавлением случайного порта назначения\n",
    "    ip_packet_request = IP(src=src_addr, dst=dst_addr) / TCP(dport=502, sport=random_port) / modbus_request\n",
    "\n",
    "    # Добавление в список\n",
    "    packets.append(ip_packet_request)\n",
    "\n",
    "    # Обработка запроса и создание Modbus Response\n",
    "    modbus_response_data = create_modbus_response_from_matrix(matrix, starting_address, quantity)\n",
    "    modbus_response = create_modbus_response(unit_id, 3, modbus_response_data)\n",
    "\n",
    "    # Преобразование в IP/TCP пакет с добавлением случайного порта назначения\n",
    "    ip_packet_response = IP(src=dst_addr, dst=src_addr) / TCP(dport=random_port, sport=502) / modbus_response\n",
    "\n",
    "    # Добавление в список\n",
    "    packets.append(ip_packet_response)"
   ]
  },
  {
   "cell_type": "code",
   "execution_count": null,
   "metadata": {},
   "outputs": [],
   "source": [
    "# Запись в PCAP файл\n",
    "pcap_filename = 'modbus_interactions.pcap'\n",
    "\n",
    "wrpcap(pcap_filename, packets)\n",
    "pcap_p = rdpcap(pcap_filename)\n",
    "pcap_p[0]"
   ]
  }
 ],
 "metadata": {
  "kernelspec": {
   "display_name": "Python 3",
   "language": "python",
   "name": "python3"
  },
  "language_info": {
   "codemirror_mode": {
    "name": "ipython",
    "version": 3
   },
   "file_extension": ".py",
   "mimetype": "text/x-python",
   "name": "python",
   "nbconvert_exporter": "python",
   "pygments_lexer": "ipython3",
   "version": "3.11.5"
  }
 },
 "nbformat": 4,
 "nbformat_minor": 2
}
