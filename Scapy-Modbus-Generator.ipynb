{
 "cells": [
  {
   "cell_type": "code",
   "execution_count": null,
   "metadata": {},
   "outputs": [],
   "source": [
    "# !pip install scapy\n",
    "# !pip install numpy"
   ]
  },
  {
   "cell_type": "code",
   "execution_count": 2,
   "metadata": {},
   "outputs": [
    {
     "name": "stderr",
     "output_type": "stream",
     "text": [
      "WARNING: Wireshark is installed, but cannot read manuf !\n"
     ]
    }
   ],
   "source": [
    "import struct\n",
    "import random\n",
    "import numpy as np\n",
    "from scapy.all import *"
   ]
  },
  {
   "cell_type": "code",
   "execution_count": 3,
   "metadata": {},
   "outputs": [],
   "source": [
    "src_addr = 'localhost'  # Адрес отправителя\n",
    "dst_addr = '1.2.3.4'    # Адрес получателя\n",
    "\n",
    "rows = 20  # Количество строк матрицы\n",
    "cols = 20  # Количество столбцов матрицы\n",
    "\n",
    "num_interactions = 2000  # Количество запросов\n",
    "max_num_registers = 25   # Максимальное количество регистров в каждом пакете"
   ]
  },
  {
   "cell_type": "code",
   "execution_count": 4,
   "metadata": {},
   "outputs": [],
   "source": [
    "def generate_engine_matrix(rows, cols):\n",
    "    # Создаем матрицу со случайными значениями от 1 до 100\n",
    "    matrix = np.random.randint(1, 100, size=(rows, cols))\n",
    "    \n",
    "    # Добавляем заголовки для столбцов (C0 до C19)\n",
    "    column_headers = [f\"R{i}\" for i in range(cols)]\n",
    "    \n",
    "    # Добавляем заголовки для строк (R0 до R19)\n",
    "    row_headers = [f\"C{i}\" for i in range(rows)]\n",
    "    \n",
    "    # Выводим матрицу с заголовками\n",
    "    print(\"\\t\".join([\"\"] + column_headers))\n",
    "    for i in range(rows):\n",
    "        print(\"\\t\".join([row_headers[i]] + list(map(str, matrix[i]))))\n",
    "\n",
    "    return matrix"
   ]
  },
  {
   "cell_type": "code",
   "execution_count": 5,
   "metadata": {},
   "outputs": [],
   "source": [
    "def create_modbus_tcp_packet(unit_id, function_code, data):\n",
    "    # Преобразование заголовка Modbus/TCP\n",
    "    protocol_id = 0\n",
    "    length = len(data) + 2\n",
    "\n",
    "    # Создание заголовка\n",
    "    header = struct.pack('>HHHBB', transaction_id, protocol_id, length, unit_id, function_code)\n",
    "\n",
    "    # Добавление данных\n",
    "    packet = header + data\n",
    "\n",
    "    return packet"
   ]
  },
  {
   "cell_type": "code",
   "execution_count": 6,
   "metadata": {},
   "outputs": [],
   "source": [
    "def create_modbus_response(unit_id, function_code, data):\n",
    "    return create_modbus_tcp_packet(unit_id, function_code, data)"
   ]
  },
  {
   "cell_type": "code",
   "execution_count": 7,
   "metadata": {},
   "outputs": [],
   "source": [
    "def create_modbus_request(unit_id, starting_address, quantity):\n",
    "    data = struct.pack('>HH', starting_address, quantity)\n",
    "    modbus_request = create_modbus_tcp_packet(unit_id, 3, data)\n",
    "    return modbus_request"
   ]
  },
  {
   "cell_type": "code",
   "execution_count": 8,
   "metadata": {},
   "outputs": [],
   "source": [
    "def create_modbus_response_from_matrix(matrix, starting_address, quantity):\n",
    "    # Преобразование данных из матрицы в формат Modbus Response\n",
    "    response_data = b''\n",
    "    for value in matrix.flatten()[starting_address:starting_address + quantity]:\n",
    "        response_data += struct.pack('>H', value)\n",
    "    \n",
    "    byte_count = len(response_data)\n",
    "    return struct.pack('>B', byte_count) + response_data"
   ]
  },
  {
   "cell_type": "code",
   "execution_count": 9,
   "metadata": {},
   "outputs": [
    {
     "name": "stdout",
     "output_type": "stream",
     "text": [
      "\tR0\tR1\tR2\tR3\tR4\tR5\tR6\tR7\tR8\tR9\tR10\tR11\tR12\tR13\tR14\tR15\tR16\tR17\tR18\tR19\n",
      "C0\t21\t66\t52\t8\t78\t97\t12\t6\t54\t29\t19\t36\t38\t89\t87\t51\t46\t6\t72\t63\n",
      "C1\t60\t59\t96\t9\t32\t12\t82\t17\t71\t66\t52\t98\t38\t39\t37\t65\t41\t57\t2\t85\n",
      "C2\t44\t8\t47\t73\t11\t87\t55\t55\t9\t70\t4\t89\t45\t93\t80\t25\t59\t36\t24\t10\n",
      "C3\t60\t47\t99\t93\t8\t87\t40\t15\t71\t47\t96\t84\t82\t48\t87\t64\t2\t89\t97\t26\n",
      "C4\t88\t24\t38\t52\t86\t50\t76\t38\t6\t75\t8\t19\t14\t86\t54\t68\t32\t77\t98\t1\n",
      "C5\t2\t23\t75\t2\t1\t43\t25\t64\t88\t5\t55\t57\t9\t84\t78\t18\t29\t4\t12\t53\n",
      "C6\t74\t77\t86\t47\t38\t82\t24\t21\t99\t65\t59\t5\t9\t47\t71\t27\t75\t18\t99\t37\n",
      "C7\t74\t58\t98\t85\t20\t81\t3\t49\t10\t88\t17\t41\t10\t52\t80\t92\t83\t75\t37\t77\n",
      "C8\t75\t65\t73\t19\t70\t53\t2\t64\t41\t54\t92\t20\t42\t90\t38\t48\t82\t34\t29\t2\n",
      "C9\t47\t65\t45\t28\t50\t91\t34\t23\t24\t18\t48\t65\t29\t74\t30\t71\t1\t73\t22\t77\n",
      "C10\t45\t68\t87\t12\t13\t73\t36\t81\t7\t36\t15\t73\t29\t64\t31\t88\t63\t86\t32\t30\n",
      "C11\t60\t12\t79\t61\t88\t88\t48\t73\t86\t65\t2\t48\t73\t39\t48\t74\t7\t95\t90\t32\n",
      "C12\t48\t9\t81\t27\t27\t20\t25\t87\t20\t4\t64\t34\t66\t95\t62\t53\t21\t34\t89\t90\n",
      "C13\t51\t62\t74\t49\t12\t64\t53\t75\t11\t44\t73\t80\t31\t97\t46\t85\t82\t96\t39\t24\n",
      "C14\t28\t32\t80\t81\t89\t98\t84\t23\t88\t29\t85\t46\t91\t63\t47\t84\t23\t18\t25\t63\n",
      "C15\t36\t80\t22\t4\t57\t62\t89\t73\t76\t76\t29\t59\t36\t84\t53\t31\t16\t29\t33\t39\n",
      "C16\t76\t22\t59\t72\t94\t16\t96\t14\t19\t39\t24\t37\t84\t27\t95\t23\t78\t59\t50\t80\n",
      "C17\t89\t33\t64\t74\t85\t58\t40\t66\t35\t91\t73\t46\t25\t76\t49\t99\t27\t75\t12\t11\n",
      "C18\t20\t22\t30\t25\t87\t72\t55\t72\t12\t52\t17\t88\t62\t18\t47\t4\t10\t58\t72\t35\n",
      "C19\t46\t90\t92\t19\t41\t89\t95\t2\t90\t98\t62\t53\t42\t26\t92\t75\t31\t48\t82\t17\n"
     ]
    }
   ],
   "source": [
    "# Пример использования для создания Modbus запроса и записи в PCAP файл:\n",
    "unit_id = 1\n",
    "\n",
    "# Создание случайной матрицы\n",
    "matrix = generate_engine_matrix(rows, cols)\n",
    "\n",
    "packets = []  # Список для хранения пакетов\n",
    "used_transaction_ids = set()  # Множество для отслеживания использованных transaction_id"
   ]
  },
  {
   "cell_type": "code",
   "execution_count": 10,
   "metadata": {},
   "outputs": [],
   "source": [
    "for _ in range(num_interactions):\n",
    "    # Генерация случайных значений starting_address и quantity\n",
    "    starting_address = random.randint(0, (rows * cols - 1))\n",
    "    quantity = random.randint(1, max_num_registers)\n",
    "\n",
    "    # Генерация уникального transaction_id\n",
    "    while True:\n",
    "        transaction_id = random.randint(0, num_interactions)\n",
    "        if transaction_id not in used_transaction_ids:\n",
    "            used_transaction_ids.add(transaction_id)\n",
    "            break\n",
    "\n",
    "    # Генерация случайного порта\n",
    "    random_port = random.randint(1024, 65535)\n",
    "\n",
    "    # Создание Modbus запроса\n",
    "    modbus_request = create_modbus_request(unit_id, starting_address, quantity)\n",
    "\n",
    "    # Преобразование в IP/TCP пакет с добавлением случайного порта назначения\n",
    "    ip_packet_request = IP(src=src_addr, dst=dst_addr) / TCP(dport=502, sport=random_port) / modbus_request\n",
    "\n",
    "    # Добавление в список\n",
    "    packets.append(ip_packet_request)\n",
    "\n",
    "    # Обработка запроса и создание Modbus Response\n",
    "    modbus_response_data = create_modbus_response_from_matrix(matrix, starting_address, quantity)\n",
    "    modbus_response = create_modbus_response(unit_id, 3, modbus_response_data)\n",
    "\n",
    "    # Преобразование в IP/TCP пакет с добавлением случайного порта назначения\n",
    "    ip_packet_response = IP(src=dst_addr, dst=src_addr) / TCP(dport=random_port, sport=502) / modbus_response\n",
    "\n",
    "    # Добавление в список\n",
    "    packets.append(ip_packet_response)"
   ]
  },
  {
   "cell_type": "code",
   "execution_count": 11,
   "metadata": {},
   "outputs": [
    {
     "data": {
      "text/plain": [
       "<IP  version=4 ihl=5 tos=0x0 len=52 id=1 flags= frag=0 ttl=64 proto=tcp chksum=0xf7bc src=127.0.0.1 dst=1.2.3.4 |<TCP  sport=29502 dport=502 seq=0 ack=0 dataofs=5 reserved=0 flags=S window=8192 chksum=0x93cd urgptr=0 |<Raw  load='\\x01\\\\xda\\x00\\x00\\x00\\x06\\x01\\x03\\x00\\\\xea\\x00\\x01' |>>>"
      ]
     },
     "execution_count": 11,
     "metadata": {},
     "output_type": "execute_result"
    }
   ],
   "source": [
    "# Запись в PCAP файл\n",
    "pcap_filename = 'modbus_interactions.pcap'\n",
    "\n",
    "wrpcap(pcap_filename, packets)\n",
    "pcap_p = rdpcap(pcap_filename)\n",
    "pcap_p[0]"
   ]
  }
 ],
 "metadata": {
  "kernelspec": {
   "display_name": "Python 3",
   "language": "python",
   "name": "python3"
  },
  "language_info": {
   "codemirror_mode": {
    "name": "ipython",
    "version": 3
   },
   "file_extension": ".py",
   "mimetype": "text/x-python",
   "name": "python",
   "nbconvert_exporter": "python",
   "pygments_lexer": "ipython3",
   "version": "3.11.5"
  }
 },
 "nbformat": 4,
 "nbformat_minor": 2
}
